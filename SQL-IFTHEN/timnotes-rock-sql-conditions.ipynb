{
 "cells": [
  {
   "cell_type": "markdown",
   "metadata": {},
   "source": [
    "This is how to wrap a whole SQL query in a condition (such that the query won't happen unless condition is met) using SQL:"
   ]
  },
  {
   "cell_type": "code",
   "execution_count": null,
   "metadata": {
    "vscode": {
     "languageId": "sql"
    }
   },
   "outputs": [],
   "source": [
    "IF (Try_Cast(@GroupId as int) > 0)\n",
    "BEGIN\n",
    "\n",
    "SELECT\n",
    "    p.Id\n",
    "    , CONCAT(p.NickName, ' ', p.LastName) AS 'Name'\n",
    "    , CASE gm.GroupMemberStatus\n",
    "        WHEN 0 THEN 'Inactive'\n",
    "        WHEN 1 THEN 'Active'\n",
    "        WHEN 2 THEN 'Pending'\n",
    "    END AS 'Member Status'\n",
    "    , CASE p.Gender\n",
    "        WHEN 1 THEN 'Male'\n",
    "        WHEN 2 THEN 'Female'\n",
    "        ELSE 'Unknown'\n",
    "    END AS 'Gender'\n",
    "    , gtr.Name AS 'Member Role'\n",
    "    , dbo.ufnCrm_GetAge(p.Birthdate) AS 'Age'\n",
    "FROM\n",
    "    [GroupMember] gm\n",
    "    INNER JOIN [GroupTypeRole] gtr ON gtr.Id = gm.GroupRoleId\n",
    "    INNER JOIN [Person] p ON p.Id = gm.PersonId\n",
    "WHERE\n",
    "    gm.GroupId = @GroupId\n",
    "    AND\n",
    "    gm.IsArchived=0\n",
    "GROUP BY\n",
    "    p.Id\n",
    "    , p.NickName\n",
    "    , p.LastName\n",
    "    , gm.GroupMemberStatus\n",
    "    , p.Gender\n",
    "    , gtr.Name\n",
    "    , dbo.ufnCrm_GetAge(p.Birthdate)\n",
    "    , p.Email\n",
    "    , gtr.[Order]\n",
    "ORDER BY\n",
    "    gtr.[Order]\n",
    "    , gm.GroupMemberStatus ASC\n",
    "    , p.LastName\n",
    "\n",
    "END"
   ]
  },
  {
   "cell_type": "markdown",
   "metadata": {},
   "source": [
    "In this above example, if the condition in line 1 is FALSE, everything after line 1 pretends not to exist.\n",
    "If the condition in line 1 is TRUE, then the SQL between BEGIN and END runs."
   ]
  },
  {
   "cell_type": "markdown",
   "metadata": {},
   "source": [
    "This is how to wrap a whole SQL query in a condition (such that the query won't happen unless condition is met) using Lava:"
   ]
  },
  {
   "cell_type": "code",
   "execution_count": null,
   "metadata": {
    "vscode": {
     "languageId": "html"
    }
   },
   "outputs": [],
   "source": [
    "{% assign coachGuid = PageParameter.LGCoach | SanitizeSql %}\n",
    "\n",
    "{% if coachGuid != empty and coachGuid != null %}\n",
    "SELECT\n",
    "    g.Id AS 'GroupId'\n",
    "    , g.Name AS 'Group Name'\n",
    "    , COUNT(DISTINCT CASE WHEN gm.IsArchived = 0 AND gm.GroupMemberStatus = 1 THEN gm.Id END) AS 'Active Members'\n",
    "    , COUNT(DISTINCT CASE WHEN gm.IsArchived = 0 AND gm.GroupMemberStatus = 2 THEN gm.Id END) AS 'Pending Members'\n",
    "    , c.Name AS 'Campus'\n",
    "    , av0.[Value] AS 'var1'\n",
    "\n",
    "FROM\n",
    "    [Group] g\n",
    "    INNER JOIN [GroupMember] gm ON gm.GroupId = g.Id\n",
    "    LEFT JOIN [AttributeValue] av0 ON av0.EntityId = g.Id AND av0.AttributeId IN (8975, 8978, 8982, 8979)\n",
    "    LEFT JOIN [AttributeValue] av2 ON av2.EntityId = g.Id AND av2.AttributeId = 8975 --Coach\n",
    "    LEFT JOIN [Campus] c ON c.Id = g.CampusId\n",
    "WHERE\n",
    "    g.GroupTypeId IN (25, 45, 46, 59) AND g.IsActive = 1 AND g.IsArchived = 0\n",
    "    AND\n",
    "    av0.AttributeId = 8975\n",
    "    AND\n",
    "    av2.[Value] = '{{ coachGuid }}'\n",
    "GROUP BY\n",
    "    g.Id\n",
    "    , g.Name\n",
    "    , c.Name\n",
    "    , av0.[Value]\n",
    "ORDER BY\n",
    "    g.Name\n",
    "{% endif %}"
   ]
  },
  {
   "cell_type": "markdown",
   "metadata": {},
   "source": [
    "In this above example, if the condition in line 3 is FALSE, everything after line 3 pretends not to exist.\n",
    "If the condition in line 3 is TRUE, then the SQL between {% if %} and {% endif %} runs.\n",
    "\n",
    "It's worth mentioning that, if the context where I'm writing this code is a SQL engine, the above will work fine;\n",
    "whereas if the context where I'm writing this code is a Lava engine, I will have to wrap the SQL inside {% sql %} and {% endsql %}"
   ]
  }
 ],
 "metadata": {
  "language_info": {
   "name": "python"
  }
 },
 "nbformat": 4,
 "nbformat_minor": 2
}
